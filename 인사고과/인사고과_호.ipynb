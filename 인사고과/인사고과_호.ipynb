{
 "cells": [
  {
   "cell_type": "code",
   "execution_count": 4,
   "metadata": {},
   "outputs": [
    {
     "data": {
      "text/plain": [
       "4"
      ]
     },
     "execution_count": 4,
     "metadata": {},
     "output_type": "execute_result"
    }
   ],
   "source": [
    "\n",
    "def solution(scores):\n",
    "    answer = 1\n",
    "\n",
    "    target = scores[0]\n",
    "    target_score = sum(scores[0])\n",
    "    scores.sort(key=lambda x: (-x[0], x[1]))\n",
    "\n",
    "    threshold = 0\n",
    "    for score in scores:\n",
    "        if target[0] < score[0] and target[1] < score[1]:\n",
    "            return -1\n",
    "        if threshold <= score[1]:\n",
    "            if target_score < score[0] + score[1]:\n",
    "                answer += 1\n",
    "            threshold = score[1]\n",
    "    return answer \n",
    "    \n",
    "solution([[2,2],[1,4],[3,2],[3,2],[2,1]])\n",
    "\n"
   ]
  },
  {
   "cell_type": "code",
   "execution_count": null,
   "metadata": {},
   "outputs": [],
   "source": [
    "def solution(scores):\n",
    "    answer = 1  # 초기값은 1로 설정\n",
    "\n",
    "    target = scores[0]  # 원호의 점수(근무태도,사원평가) 를 target으로 설정\n",
    "    target_score = sum(scores[0])  # 원호의 점수 합을 target_score로 설정\n",
    "    scores.sort(key=lambda x: (-x[0], x[1]))  # 점수의 0번째 인덱스 를 기준으로 내림차순 정렬 1번째 인덱스를 기준으로 오름차순 정렬 \n",
    "\n",
    "    threshold = 0  # 현재 점수의 최고점\n",
    "    for score in scores:  # 제시된 scores 들을 하나씩 score에 넣고 돌림 \n",
    "        if target[0] < score[0] and target[1] < score[1]:  # 원호 점수와 사원 1,2,3,.. 들과 점수(근무태도,사원평가) 를 비교했을때 원호의 점수가 다른 사원의 점수보다 둘다 낮게 나오면 바로 -1 반환 \n",
    "            return -1\n",
    "        if threshold <= score[1]:  # 현재 점수의 최고점이 사원보다 작거나 같다면 \n",
    "            if target_score < score[0] + score[1]:  # target_score보다 score[0] + score[1]이 더 큰 경우\n",
    "                answer += 1  # answer에  1 을 증가시킴 \n",
    "            threshold = score[1]  # 최고점을 score[1]로 설정\n",
    "    return answer"
   ]
  }
 ],
 "metadata": {
  "kernelspec": {
   "display_name": "Python 3",
   "language": "python",
   "name": "python3"
  },
  "language_info": {
   "codemirror_mode": {
    "name": "ipython",
    "version": 3
   },
   "file_extension": ".py",
   "mimetype": "text/x-python",
   "name": "python",
   "nbconvert_exporter": "python",
   "pygments_lexer": "ipython3",
   "version": "3.11.3"
  },
  "orig_nbformat": 4,
  "vscode": {
   "interpreter": {
    "hash": "aee8b7b246df8f9039afb4144a1f6fd8d2ca17a180786b69acc140d282b71a49"
   }
  }
 },
 "nbformat": 4,
 "nbformat_minor": 2
}
